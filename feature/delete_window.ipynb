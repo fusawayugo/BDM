{
 "cells": [
  {
   "cell_type": "code",
   "execution_count": 6,
   "metadata": {},
   "outputs": [
    {
     "name": "stdout",
     "output_type": "stream",
     "text": [
      "2\n",
      "19\n",
      "18\n",
      "17\n",
      "16\n"
     ]
    }
   ],
   "source": [
    "import pygetwindow as gw\n",
    "import pyautogui as pg\n",
    "from time import sleep\n",
    "\n",
    "q_len=0\n",
    "next_q_len=-1\n",
    "q=gw.getAllTitles()\n",
    "q_len=len(q)\n",
    "sleep(1)\n",
    "while(True):\n",
    "    print(q_len)\n",
    "    pg.keyDown('command')\n",
    "    pg.keyDown('shift')\n",
    "    pg.hotkey('w')\n",
    "    pg.keyUp('shift')\n",
    "    pg.keyUp('command')\n",
    "    next_q=q=gw.getAllTitles()\n",
    "    next_q_len=len(next_q)\n",
    "    if(q_len==next_q_len):\n",
    "        break\n",
    "    else:\n",
    "        q_len=next_q_len\n",
    "\n",
    "\n"
   ]
  }
 ],
 "metadata": {
  "kernelspec": {
   "display_name": "env",
   "language": "python",
   "name": "python3"
  },
  "language_info": {
   "codemirror_mode": {
    "name": "ipython",
    "version": 3
   },
   "file_extension": ".py",
   "mimetype": "text/x-python",
   "name": "python",
   "nbconvert_exporter": "python",
   "pygments_lexer": "ipython3",
   "version": "3.11.6"
  }
 },
 "nbformat": 4,
 "nbformat_minor": 2
}
