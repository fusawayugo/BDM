{
 "cells": [
  {
   "cell_type": "code",
   "execution_count": 1,
   "metadata": {},
   "outputs": [
    {
     "name": "stdout",
     "output_type": "stream",
     "text": [
      "['コントロールセンター Display', 'コントロールセンター Sound', 'コントロールセンター Battery', 'コントロールセンター WiFi', 'コントロールセンター BentoBox', 'コントロールセンター Clock', 'アバスト セキュリティ Item-0', 'LINE Item-0', 'DeepL Item-0', 'Spotlight Item-0', 'Cisco Webex Meetings Item-0', 'TextInputMenuAgent Item-0', 'Cisco AnyConnect Secure Mobilit Item-0', 'SystemUIServer Siri', 'Window Server Menubar', 'Dock Dock', 'Cisco AnyConnect Secure Mobilit ', 'Visual Studio Code 2 delete_window.ipynb — BDM', 'Google Chrome 新しいタブ', 'Finder アプリケーション', 'Slack * 2023a-電子情報機器学 - UTokyo Slack - Slack']\n"
     ]
    }
   ],
   "source": [
    "import pygetwindow as gw\n",
    "import pyautogui as pg\n",
    "from time import sleep\n",
    "\n",
    "q_len=0\n",
    "next_q_len=-1\n",
    "q=gw.getAllTitles()\n",
    "q_len=len(q)\n",
    "sleep(1)\n",
    "while(True):\n",
    "    pg.keyDown('command')\n",
    "    pg.keyDown('shift')\n",
    "    pg.hotkey('w')\n",
    "    pg.keyUp('shift')\n",
    "    pg.keyUp('command')\n",
    "    next_q=gw.getAllTitles()\n",
    "    next_q_len=len(next_q)\n",
    "    print(next_q)\n",
    "    break\n",
    "    if(q_len==next_q_len):\n",
    "        break\n",
    "    else:\n",
    "        q_len=next_q_len\n",
    "\n",
    "\n"
   ]
  },
  {
   "cell_type": "code",
   "execution_count": 3,
   "metadata": {},
   "outputs": [
    {
     "data": {
      "text/plain": [
       "MacOSWindow(hWnd=<NSRunningApplication: 0x10fbd2ef0 (com.microsoft.VSCode - 708) LSASN:{hi=0x0;lo=0xe00e}>)"
      ]
     },
     "execution_count": 3,
     "metadata": {},
     "output_type": "execute_result"
    }
   ],
   "source": [
    "import pywinctl as pwc\n",
    "\n",
    "pwc.getActiveWindow()"
   ]
  },
  {
   "cell_type": "code",
   "execution_count": null,
   "metadata": {},
   "outputs": [],
   "source": []
  }
 ],
 "metadata": {
  "kernelspec": {
   "display_name": "env",
   "language": "python",
   "name": "python3"
  },
  "language_info": {
   "codemirror_mode": {
    "name": "ipython",
    "version": 3
   },
   "file_extension": ".py",
   "mimetype": "text/x-python",
   "name": "python",
   "nbconvert_exporter": "python",
   "pygments_lexer": "ipython3",
   "version": "3.11.6"
  }
 },
 "nbformat": 4,
 "nbformat_minor": 2
}
