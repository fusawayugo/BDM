{
 "cells": [
  {
   "cell_type": "code",
   "execution_count": 1,
   "metadata": {},
   "outputs": [],
   "source": [
    "import pyautogui as pg\n",
    "from time import sleep\n",
    "\n",
    "sleep(1)\n",
    "# スクロールを開始\n",
    "for _ in range(10):  # 10回スクロール\n",
    "    pg.scroll(-10)  # マイナスの値で上方向にスクロール\n",
    "    sleep(0.5)  # スクロール間の遅延（秒）\n",
    "\n",
    "# 必要に応じて、他のスクロールや操作を追加できます\n"
   ]
  },
  {
   "cell_type": "code",
   "execution_count": null,
   "metadata": {},
   "outputs": [],
   "source": []
  }
 ],
 "metadata": {
  "kernelspec": {
   "display_name": "env",
   "language": "python",
   "name": "python3"
  },
  "language_info": {
   "codemirror_mode": {
    "name": "ipython",
    "version": 3
   },
   "file_extension": ".py",
   "mimetype": "text/x-python",
   "name": "python",
   "nbconvert_exporter": "python",
   "pygments_lexer": "ipython3",
   "version": "3.11.6"
  }
 },
 "nbformat": 4,
 "nbformat_minor": 2
}
