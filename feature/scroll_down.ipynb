{
 "cells": [
  {
   "cell_type": "code",
   "execution_count": 11,
   "metadata": {},
   "outputs": [],
   "source": [
    "import pyautogui as pg\n",
    "from time import sleep\n",
    "\n",
    "a=[1,1,2,3,4,7,13,20,15,10,7,5,2,1]\n",
    "b=1\n",
    "\n",
    "\n",
    "\n",
    "sleep(1)\n",
    "# スクロールを開始\n",
    "for i in range(len(a)):\n",
    "    if a[i]>1:\n",
    "        pg.scroll(-a[i]*b)\n",
    "        sleep(0.005)\n"
   ]
  },
  {
   "cell_type": "code",
   "execution_count": null,
   "metadata": {},
   "outputs": [],
   "source": []
  }
 ],
 "metadata": {
  "kernelspec": {
   "display_name": "env",
   "language": "python",
   "name": "python3"
  },
  "language_info": {
   "codemirror_mode": {
    "name": "ipython",
    "version": 3
   },
   "file_extension": ".py",
   "mimetype": "text/x-python",
   "name": "python",
   "nbconvert_exporter": "python",
   "pygments_lexer": "ipython3",
   "version": "3.11.6"
  }
 },
 "nbformat": 4,
 "nbformat_minor": 2
}
